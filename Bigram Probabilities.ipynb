{
 "cells": [
  {
   "cell_type": "code",
   "execution_count": 1,
   "id": "c62a97cd",
   "metadata": {},
   "outputs": [],
   "source": [
    "from nltk.util import ngrams"
   ]
  },
  {
   "cell_type": "code",
   "execution_count": 10,
   "id": "30bae9f2",
   "metadata": {},
   "outputs": [
    {
     "name": "stdout",
     "output_type": "stream",
     "text": [
      "('There', 'is')\n",
      "('is', 'something')\n",
      "('something', 'that')\n",
      "('that', 'is')\n",
      "('is', 'something')\n",
      "('something', 'really')\n",
      "('really', 'beautiful!')\n"
     ]
    }
   ],
   "source": [
    "n = 2\n",
    "sentence = \"There is something that is something really beautiful!\".split()\n",
    "bigram = [(s1, s2) for s1, s2 in zip(sentence, sentence[1:])]\n",
    "\n",
    "for item in bigram:\n",
    "    print(item)"
   ]
  },
  {
   "cell_type": "code",
   "execution_count": 11,
   "id": "5180a003",
   "metadata": {},
   "outputs": [
    {
     "name": "stdout",
     "output_type": "stream",
     "text": [
      "1.0\n",
      "0.2857142857142857\n"
     ]
    }
   ],
   "source": [
    "number_of_bigrams = len(bigram)\n",
    "\n",
    "something_count = sentence.count(\"something\")\n",
    "\n",
    "b_count = bigram.count(('is', 'something'))\n",
    "\n",
    "print(b_count/something_count)\n",
    "\n",
    "print(b_count/number_of_bigrams)"
   ]
  },
  {
   "cell_type": "code",
   "execution_count": null,
   "id": "7e42093f",
   "metadata": {},
   "outputs": [],
   "source": []
  }
 ],
 "metadata": {
  "kernelspec": {
   "display_name": "Python 3 (ipykernel)",
   "language": "python",
   "name": "python3"
  },
  "language_info": {
   "codemirror_mode": {
    "name": "ipython",
    "version": 3
   },
   "file_extension": ".py",
   "mimetype": "text/x-python",
   "name": "python",
   "nbconvert_exporter": "python",
   "pygments_lexer": "ipython3",
   "version": "3.11.5"
  }
 },
 "nbformat": 4,
 "nbformat_minor": 5
}
