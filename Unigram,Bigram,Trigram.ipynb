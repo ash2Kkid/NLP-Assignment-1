{
 "cells": [
  {
   "cell_type": "code",
   "execution_count": 1,
   "id": "f89b586e",
   "metadata": {},
   "outputs": [],
   "source": [
    "#importing the ngrams from nltk\n",
    "from nltk.util import ngrams"
   ]
  },
  {
   "cell_type": "code",
   "execution_count": 9,
   "id": "7991897e",
   "metadata": {},
   "outputs": [
    {
     "name": "stdout",
     "output_type": "stream",
     "text": [
      "('You',)\n",
      "('either',)\n",
      "('die',)\n",
      "('a',)\n",
      "('hero',)\n",
      "('or',)\n",
      "('live',)\n",
      "('long',)\n",
      "('enough',)\n",
      "('to',)\n",
      "('see',)\n",
      "('yourself',)\n",
      "('become',)\n",
      "('a',)\n",
      "('villan.',)\n"
     ]
    }
   ],
   "source": [
    "#unigram\n",
    "n = 1\n",
    "sentence = \"You either die a hero or live long enough to see yourself become a villan.\"\n",
    "unigram = ngrams(sentence.split(), n)\n",
    "\n",
    "for item in unigram:\n",
    "    print(item)"
   ]
  },
  {
   "cell_type": "code",
   "execution_count": 5,
   "id": "6b7876f9",
   "metadata": {},
   "outputs": [
    {
     "name": "stdout",
     "output_type": "stream",
     "text": [
      "('You', 'either')\n",
      "('either', 'die')\n",
      "('die', 'a')\n",
      "('a', 'hero')\n",
      "('hero', 'or')\n",
      "('or', 'live')\n",
      "('live', 'long')\n",
      "('long', 'enough')\n",
      "('enough', 'to')\n",
      "('to', 'see')\n",
      "('see', 'yourself')\n",
      "('yourself', 'become')\n",
      "('become', 'a')\n",
      "('a', 'villan.')\n"
     ]
    }
   ],
   "source": [
    "#bigram\n",
    "n = 2\n",
    "bigram = ngrams(sentence.split(), n)\n",
    "for item in bigram:\n",
    "    print(item)"
   ]
  },
  {
   "cell_type": "code",
   "execution_count": 8,
   "id": "ff29fc29",
   "metadata": {},
   "outputs": [
    {
     "name": "stdout",
     "output_type": "stream",
     "text": [
      "('You', 'either', 'die')\n",
      "('either', 'die', 'a')\n",
      "('die', 'a', 'hero')\n",
      "('a', 'hero', 'or')\n",
      "('hero', 'or', 'live')\n",
      "('or', 'live', 'long')\n",
      "('live', 'long', 'enough')\n",
      "('long', 'enough', 'to')\n",
      "('enough', 'to', 'see')\n",
      "('to', 'see', 'yourself')\n",
      "('see', 'yourself', 'become')\n",
      "('yourself', 'become', 'a')\n",
      "('become', 'a', 'villan.')\n"
     ]
    }
   ],
   "source": [
    "#trigram\n",
    "n = 3\n",
    "trigram = ngrams(sentence.split(), n)\n",
    "for item in trigram:\n",
    "    print(item)"
   ]
  },
  {
   "cell_type": "code",
   "execution_count": null,
   "id": "d11ce645",
   "metadata": {},
   "outputs": [],
   "source": []
  }
 ],
 "metadata": {
  "kernelspec": {
   "display_name": "Python 3 (ipykernel)",
   "language": "python",
   "name": "python3"
  },
  "language_info": {
   "codemirror_mode": {
    "name": "ipython",
    "version": 3
   },
   "file_extension": ".py",
   "mimetype": "text/x-python",
   "name": "python",
   "nbconvert_exporter": "python",
   "pygments_lexer": "ipython3",
   "version": "3.11.5"
  }
 },
 "nbformat": 4,
 "nbformat_minor": 5
}
