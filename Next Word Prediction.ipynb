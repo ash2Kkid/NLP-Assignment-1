{
 "cells": [
  {
   "cell_type": "code",
   "execution_count": 1,
   "id": "83020d69",
   "metadata": {},
   "outputs": [],
   "source": [
    "text = \"\"\"\n",
    "Once upon a luminous, starry night in the quaint, enigmatic town of Serendipity, \n",
    "a curious young explorer named Amelia embarked on an extraordinary adventure. \n",
    "With her trusty magnifying glass in hand and an indomitable spirit, she embarked on a quest to discover the elusive Elysian treasure hidden deep within the labyrinthine forest. \n",
    "As she ventured through the verdant woods, Amelia encountered an eccentric, talking squirrel named Percival, who spoke in riddles and guided her toward the treasure's whereabouts. \n",
    "The forest was resplendent with bioluminescent flora, illuminating her path with a kaleidoscope of colors. \n",
    "Amelia soon reached a precipice overlooking an awe-inspiring, cerulean waterfall, its cascading waters echoing a melodious serenade. \n",
    "Beside the waterfall stood a colossal, moss-covered stone with cryptic inscriptions. \n",
    "With Percival's guidance, she deciphered the ancient runes and uncovered the entrance to the treasure trove. \n",
    "Inside, she discovered an opulent chest adorned with intricate, golden filigree. \n",
    "Upon opening it, a symphony of shimmering jewels, radiant gemstones, and glistening artifacts greeted her with an ethereal glow. \n",
    "The Elysian treasure was hers, a testament to her dauntless courage and insatiable curiosity. \n",
    "Amelia's return to Serendipity was celebrated with jubilant revelry, and her remarkable journey became a legend, inspiring others to embark on their own adventures in the wondrous realm of imagination and discovery.\n",
    "\"\"\""
   ]
  },
  {
   "cell_type": "code",
   "execution_count": 3,
   "id": "36ffab0d",
   "metadata": {},
   "outputs": [
    {
     "name": "stderr",
     "output_type": "stream",
     "text": [
      "[nltk_data] Downloading package punkt to /Users/ashwath/nltk_data...\n"
     ]
    },
    {
     "name": "stdout",
     "output_type": "stream",
     "text": [
      "['once', 'upon', 'a', 'luminous', 'starry', 'night', 'in', 'the', 'quaint', 'enigmatic', 'town', 'of', 'serendipity', 'a', 'curious', 'young', 'explorer', 'named', 'amelia', 'embarked', 'on', 'an', 'extraordinary', 'adventure', 'with', 'her', 'trusty', 'magnifying', 'glass', 'in', 'hand', 'and', 'an', 'indomitable', 'spirit', 'she', 'embarked', 'on', 'a', 'quest', 'to', 'discover', 'the', 'elusive', 'elysian', 'treasure', 'hidden', 'deep', 'within', 'the', 'labyrinthine', 'forest', 'as', 'she', 'ventured', 'through', 'the', 'verdant', 'woods', 'amelia', 'encountered', 'an', 'eccentric', 'talking', 'squirrel', 'named', 'percival', 'who', 'spoke', 'in', 'riddles', 'and', 'guided', 'her', 'toward', 'the', 'treasure', 'whereabouts', 'the', 'forest', 'was', 'resplendent', 'with', 'bioluminescent', 'flora', 'illuminating', 'her', 'path', 'with', 'a', 'kaleidoscope', 'of', 'colors', 'amelia', 'soon', 'reached', 'a', 'precipice', 'overlooking', 'an', 'cerulean', 'waterfall', 'its', 'cascading', 'waters', 'echoing', 'a', 'melodious', 'serenade', 'beside', 'the', 'waterfall', 'stood', 'a', 'colossal', 'stone', 'with', 'cryptic', 'inscriptions', 'with', 'percival', 'guidance', 'she', 'deciphered', 'the', 'ancient', 'runes', 'and', 'uncovered', 'the', 'entrance', 'to', 'the', 'treasure', 'trove', 'inside', 'she', 'discovered', 'an', 'opulent', 'chest', 'adorned', 'with', 'intricate', 'golden', 'filigree', 'upon', 'opening', 'it', 'a', 'symphony', 'of', 'shimmering', 'jewels', 'radiant', 'gemstones', 'and', 'glistening', 'artifacts', 'greeted', 'her', 'with', 'an', 'ethereal', 'glow', 'the', 'elysian', 'treasure', 'was', 'hers', 'a', 'testament', 'to', 'her', 'dauntless', 'courage', 'and', 'insatiable', 'curiosity', 'amelia', 'return', 'to', 'serendipity', 'was', 'celebrated', 'with', 'jubilant', 'revelry', 'and', 'her', 'remarkable', 'journey', 'became', 'a', 'legend', 'inspiring', 'others', 'to', 'embark', 'on', 'their', 'own', 'adventures', 'in', 'the', 'wondrous', 'realm', 'of', 'imagination', 'and', 'discovery']\n"
     ]
    },
    {
     "name": "stderr",
     "output_type": "stream",
     "text": [
      "[nltk_data]   Unzipping tokenizers/punkt.zip.\n"
     ]
    }
   ],
   "source": [
    "import nltk\n",
    "nltk.download('punkt')\n",
    "\n",
    "words = nltk.word_tokenize(text)\n",
    "\n",
    "words = [word.lower() for word in words if word.isalnum()]\n",
    "\n",
    "print(words)"
   ]
  },
  {
   "cell_type": "code",
   "execution_count": 10,
   "id": "c93dd335",
   "metadata": {},
   "outputs": [],
   "source": [
    "from nltk.util import ngrams\n",
    "from collections import defaultdict\n",
    "\n",
    "n = 2\n",
    "\n",
    "ngrams_list = list(ngrams(words, n))\n",
    "\n",
    "ngram_freq = defaultdict(int)\n",
    "\n",
    "for ngram in ngrams_list:\n",
    "    ngram_freq[ngram] += 1"
   ]
  },
  {
   "cell_type": "code",
   "execution_count": 11,
   "id": "c35be13a",
   "metadata": {},
   "outputs": [],
   "source": [
    "def predict_next_word(prefix):\n",
    "    # Filter N-grams that start with the given prefix\n",
    "    matching_ngrams = [(ngram, freq) for ngram, freq in ngram_freq.items() if ngram[:-1] == prefix]\n",
    "\n",
    "    if not matching_ngrams:\n",
    "        return \"No prediction available.\"\n",
    "\n",
    "    # Sort N-grams by frequency in descending order\n",
    "    sorted_ngrams = sorted(matching_ngrams, key=lambda x: x[1], reverse=True)\n",
    "\n",
    "    # Select the N-gram with the highest frequency as the prediction\n",
    "    prediction = sorted_ngrams[0][0][-1]\n",
    "\n",
    "    return prediction"
   ]
  },
  {
   "cell_type": "code",
   "execution_count": 13,
   "id": "5dab63e2",
   "metadata": {},
   "outputs": [
    {
     "name": "stdout",
     "output_type": "stream",
     "text": [
      "Enter a prefix for next-word prediction: starry\n",
      "Next word prediction: night\n"
     ]
    }
   ],
   "source": [
    "user_input = input(\"Enter a prefix for next-word prediction: \").lower().split()\n",
    "if len(user_input) != n - 1:\n",
    "    print(\"Please enter a valid prefix.\")\n",
    "else:\n",
    "    prefix = tuple(user_input)\n",
    "    prediction = predict_next_word(prefix)\n",
    "    print(f\"Next word prediction: {prediction}\")"
   ]
  },
  {
   "cell_type": "code",
   "execution_count": null,
   "id": "f34d5968",
   "metadata": {},
   "outputs": [],
   "source": []
  }
 ],
 "metadata": {
  "kernelspec": {
   "display_name": "Python 3 (ipykernel)",
   "language": "python",
   "name": "python3"
  },
  "language_info": {
   "codemirror_mode": {
    "name": "ipython",
    "version": 3
   },
   "file_extension": ".py",
   "mimetype": "text/x-python",
   "name": "python",
   "nbconvert_exporter": "python",
   "pygments_lexer": "ipython3",
   "version": "3.11.5"
  }
 },
 "nbformat": 4,
 "nbformat_minor": 5
}
